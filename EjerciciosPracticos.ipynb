{
  "nbformat": 4,
  "nbformat_minor": 0,
  "metadata": {
    "colab": {
      "provenance": [],
      "authorship_tag": "ABX9TyPNcUsZRa0rypx7PNSWrJyi",
      "include_colab_link": true
    },
    "kernelspec": {
      "name": "python3",
      "display_name": "Python 3"
    },
    "language_info": {
      "name": "python"
    }
  },
  "cells": [
    {
      "cell_type": "markdown",
      "metadata": {
        "id": "view-in-github",
        "colab_type": "text"
      },
      "source": [
        "<a href=\"https://colab.research.google.com/github/lisethgira/Iniciando_Python/blob/master/EjerciciosPracticos.ipynb\" target=\"_parent\"><img src=\"https://colab.research.google.com/assets/colab-badge.svg\" alt=\"Open In Colab\"/></a>"
      ]
    },
    {
      "cell_type": "code",
      "metadata": {
        "id": "uojJRES8oza7",
        "outputId": "0164c75f-51f3-4b0b-feed-8ac53f326f49",
        "colab": {
          "base_uri": "https://localhost:8080/"
        }
      },
      "source": [
        "# calcula y muestra el resultado de 2^3\n",
        "print(2 ** 3)\n",
        "\n",
        "# calcula y muestra el residuo de 2/3\n",
        "print(2 % 3)\n",
        "\n",
        "# calcula y muestra la parte entera del cociente de 13/2\n",
        "print(13 // 2)\n",
        "\n",
        "#La primera línea muestra el resultado de elevar 2 a la tercera potencia, lo que es igual a 8.\n",
        "\n",
        "#La segunda línea muestra el residuo de la división de 2 entre 3, que es 2.\n",
        "\n",
        "#La tercera línea muestra la parte entera del cociente de 13 entre 2, que es 6. Esto se debe a que 13 dividido entre 2 es igual a 6 con un residuo de 1. La función //\n",
        "#en Python realiza la división entera, es decir, devuelve solo la parte entera del resultado de la división, ignorando el residuo."
      ],
      "execution_count": null,
      "outputs": [
        {
          "output_type": "stream",
          "name": "stdout",
          "text": [
            "8\n",
            "2\n",
            "6\n"
          ]
        }
      ]
    }
  ]
}