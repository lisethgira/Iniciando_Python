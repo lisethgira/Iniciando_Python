{
  "nbformat": 4,
  "nbformat_minor": 0,
  "metadata": {
    "colab": {
      "provenance": [],
      "authorship_tag": "ABX9TyOViPO7bwXp9ujYfPINp84x",
      "include_colab_link": true
    },
    "kernelspec": {
      "name": "python3",
      "display_name": "Python 3"
    },
    "language_info": {
      "name": "python"
    }
  },
  "cells": [
    {
      "cell_type": "markdown",
      "metadata": {
        "id": "view-in-github",
        "colab_type": "text"
      },
      "source": [
        "<a href=\"https://colab.research.google.com/github/lisethgira/Iniciando_Python/blob/master/EjerciciosPracticos.ipynb\" target=\"_parent\"><img src=\"https://colab.research.google.com/assets/colab-badge.svg\" alt=\"Open In Colab\"/></a>"
      ]
    },
    {
      "cell_type": "code",
      "source": [
        "# Procure anticicipar el resultuado de las operaciones antes de realizar la ejecución del código\n",
        "m = 3+1\n",
        "n = 2 \n",
        "r = m/n\n",
        "# ¿cúal es el valor de r?\n",
        "print (r)\n",
        "\n",
        "a = 5\n",
        "b = 3\n",
        "c = ( a- b)* 2\n",
        "# ¿cúal es el valor de a?\n",
        "print (c)"
      ],
      "metadata": {
        "id": "3zXDYZ1ZlQpv"
      },
      "execution_count": null,
      "outputs": []
    },
    {
      "cell_type": "code",
      "source": [
        "# El resultado almacenado en n depende \n",
        "# de la precedencia de operadores de Python\n",
        "n = 1 + 2 * 3 / 4.0\n",
        "print(n)\n",
        "\n",
        "# El resultado ahora depende del orden que están\n",
        "# indicando los paréntesis.\n",
        "n = (1 + (2 * 3)) / 4.0\n",
        "print(n)"
      ],
      "metadata": {
        "id": "3-YtBnXxlYVA"
      },
      "execution_count": null,
      "outputs": []
    },
    {
      "cell_type": "code",
      "metadata": {
        "id": "uojJRES8oza7"
      },
      "source": [
        "# calcula y muestra el resultado de 2^3\n",
        "print(2 ** 3)\n",
        "\n",
        "# calcula y muestra el residuo de 2/3\n",
        "print(2 % 3)\n",
        "\n",
        "# calcula y muestra la parte entera del cociente de 13/2\n",
        "print(13 // 2)\n",
        "\n",
        "#La primera línea muestra el resultado de elevar 2 a la tercera potencia, lo que es igual a 8.\n",
        "\n",
        "#La segunda línea muestra el residuo de la división de 2 entre 3, que es 2.\n",
        "\n",
        "#La tercera línea muestra la parte entera del cociente de 13 entre 2, que es 6. Esto se debe a que 13 dividido entre 2 es igual a 6 con un residuo de 1. La función //\n",
        "#en Python realiza la división entera, es decir, devuelve solo la parte entera del resultado de la división, ignorando el residuo."
      ],
      "execution_count": null,
      "outputs": []
    },
    {
      "cell_type": "code",
      "source": [
        "#la siguiente expresión:  (2+3)^2=(5)^2=25\n",
        "\n",
        "(2 + 3)**2"
      ],
      "metadata": {
        "colab": {
          "base_uri": "https://localhost:8080/"
        },
        "id": "YB8NZgyc7aGW",
        "outputId": "7fddb293-c3dc-40ac-ea24-bbb44deb5aa7"
      },
      "execution_count": 2,
      "outputs": [
        {
          "output_type": "execute_result",
          "data": {
            "text/plain": [
              "25"
            ]
          },
          "metadata": {},
          "execution_count": 2
        }
      ]
    },
    {
      "cell_type": "code",
      "source": [
        "msg = \"Hola\" + \" \" + \"mundo desde\" + \" \" + \"Python\"\n",
        "print(msg)\n",
        "msg = \"Hola \" * 5\n",
        "print(msg)"
      ],
      "metadata": {
        "id": "1ElYqgDZlgqc"
      },
      "execution_count": null,
      "outputs": []
    },
    {
      "cell_type": "code",
      "source": [
        "nombre = input(\"¿Cual es tu nombre? \")\n",
        "print(\"Hola\", nombre, \",bienvenido al curso\")"
      ],
      "metadata": {
        "id": "uY_Bi0oFliSx"
      },
      "execution_count": null,
      "outputs": []
    },
    {
      "cell_type": "code",
      "source": [
        "# La función input() siempre devuelve un string\n",
        "num = input(\"Por favor ingrese un número: \")\n",
        "print('El valor de la variable num es:', num)\n",
        "print('El tipo de dato de la variable num es:', type(num))"
      ],
      "metadata": {
        "id": "k3WdyoPtlnPO"
      },
      "execution_count": null,
      "outputs": []
    },
    {
      "cell_type": "code",
      "source": [
        "# Leemos un número y lo convertimos a float con la función float()\n",
        "# Si la conversión falla se genera un error.\n",
        "num = float(input(\"Por favor ingrese un número: \"))\n",
        "print('El valor de la variable num es:', num)\n",
        "print('El tipo de dato de la variable num es:', type(num))"
      ],
      "metadata": {
        "id": "kXXSM_oOlqhB"
      },
      "execution_count": null,
      "outputs": []
    },
    {
      "cell_type": "code",
      "source": [
        "# Leemos un número y lo convertimos a entero con la función int()\n",
        "# Si la conversión falla se genera un error.\n",
        "num = int(input())\n",
        "print('El valor de la variable num es:', num)\n",
        "print('El tipo de dato de la variable num es:', type(num))"
      ],
      "metadata": {
        "id": "TOGiAbtTltse"
      },
      "execution_count": null,
      "outputs": []
    },
    {
      "cell_type": "code",
      "source": [
        "horas = float(input(\"Introduce tus horas de trabajo: \"))\n",
        "coste = float(input(\"Introduce lo que cobras por hora: \"))\n",
        "paga = horas * coste\n",
        "print(\"Tu paga es\", paga)\n"
      ],
      "metadata": {
        "id": "DIPDAWTij7dW"
      },
      "execution_count": null,
      "outputs": []
    },
    {
      "cell_type": "code",
      "source": [
        "print(2 == 3)\n",
        "print(2 == 2)\n",
        "x = 5\n",
        "print(2 == x)"
      ],
      "metadata": {
        "id": "pQZBR2Mej-WG"
      },
      "execution_count": null,
      "outputs": []
    },
    {
      "cell_type": "code",
      "source": [
        "x = 2 > 3\n",
        "print('El valor de la variable x es:', x)\n",
        "print('El tipo de dato de la variable x es:', type(x))"
      ],
      "metadata": {
        "id": "yPJ_YxqRkwPa"
      },
      "execution_count": null,
      "outputs": []
    },
    {
      "cell_type": "code",
      "source": [
        "# Ejemplo No.1 de condicional simple\n",
        "x = 3\n",
        "if x > 0:\n",
        "  print('x es positivo')"
      ],
      "metadata": {
        "id": "K9u7VYg0kxgg"
      },
      "execution_count": null,
      "outputs": []
    },
    {
      "cell_type": "code",
      "source": [
        "# Ejemplo No.2 de condicional simple\n",
        "x = 3\n",
        "if x > 0 and x == 3:\n",
        "  print('x es positivo y x es igual 3')\n",
        "print('Este print se ejecuta independientemente de la expresión lógica del if')"
      ],
      "metadata": {
        "id": "4w2F5JgIlHJZ"
      },
      "execution_count": null,
      "outputs": []
    },
    {
      "cell_type": "code",
      "source": [
        "# Ejemplo No. 1 de condicionales encadenados if-elif-else\n",
        "opcion = input(\"Indique una opción: a, b, c: \")\n",
        "if opcion == 'a':\n",
        "  print('Seleccionó la opción a')\n",
        "elif opcion == 'b':\n",
        "  print('Seleccionó la opción b')\n",
        "elif opcion == 'c':\n",
        "  print('Seleccionó la opción c')\n",
        "else:\n",
        "  print('La opción seleccionada no es válida')\n",
        "  print('Este else es opcional')\n",
        "print('Este print se ejecuta independientemente de la expresión lógica del if-elif-else')"
      ],
      "metadata": {
        "id": "r3gJxAH8k2Js"
      },
      "execution_count": null,
      "outputs": []
    },
    {
      "cell_type": "code",
      "source": [
        "a = 2\n",
        "b = 3\n",
        "if a == b:\n",
        "  print('a y b son iguales')\n",
        "else:\n",
        "  if a > b:\n",
        "    print('a es mayor que b')\n",
        "  else:\n",
        "    print('b es mayor que a')\n",
        "print('Este print se ejecuta independientemente de todas las \\\n",
        "expresiones lógicas')"
      ],
      "metadata": {
        "id": "CfLIAbwrk9c3"
      },
      "execution_count": null,
      "outputs": []
    }
  ]
}